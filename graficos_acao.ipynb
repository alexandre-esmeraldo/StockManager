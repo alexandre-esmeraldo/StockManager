{
 "cells": [
  {
   "cell_type": "code",
   "execution_count": null,
   "id": "b3797388",
   "metadata": {},
   "outputs": [],
   "source": [
    "estatistica = consulta_acao(df, acao_adhoc)\n",
    "gera_grafico(list(estatistica.dtPregao[:20]), \n",
    "             list(estatistica.pcMax[:20].replace('',0)), \"pcMax\", list(estatistica.pcVar[:20].replace('',0)), \"pcVar\",\n",
    "             list(estatistica.pcMin[:20].replace('',0)), \"pcMin\", title=f\"{acao_adhoc}: Max, Fech, Min\", set_lim=\"y\", figb=6 )"
   ]
  },
  {
   "cell_type": "code",
   "execution_count": null,
   "id": "05cc63f4",
   "metadata": {},
   "outputs": [],
   "source": [
    "mean_graph_days, mean_graph_mean, mean_graph_median, mean_graph_dates = [], [], [], []\n",
    "cd_acao_mean = acao_adhoc.upper()\n",
    "loop_range = 20 if estatistica.shape[0] > 20 else estatistica.shape[0] - 1\n",
    "\n",
    "for i in range(loop_range):\n",
    "    mean_graph_days.append(i+1)\n",
    "    mean_graph_dates.append(consulta_acao(df, cd_acao_mean)[\"dtPregao\"][i:i+1].item())\n",
    "    mean_graph_mean.append(consulta_acao(df, cd_acao_mean)[\"pcMax\"].head(i+1).replace('',0).mean())\n",
    "    mean_graph_median.append(consulta_acao(df, cd_acao_mean)[\"pcMax\"].head(i+1).replace('',0).median())\n",
    "#     print(f'{str(mean_graph_days[i]).zfill(2)} dias,  mean {\"{:,.5f}\".format(mean_graph_mean[i], 5)},  median {\"{:,.5f}\".format(mean_graph_median[i])}, date {mean_graph_dates[i]}')\n",
    "print(cd_acao_mean)"
   ]
  },
  {
   "cell_type": "code",
   "execution_count": null,
   "id": "ff6b6383",
   "metadata": {},
   "outputs": [],
   "source": [
    "gera_grafico(mean_graph_dates, mean_graph_mean, \"mean\", mean_graph_median, \"median\", title=f'{acao_adhoc}: PcMax (media e mediana)')"
   ]
  }
 ],
 "metadata": {
  "kernelspec": {
   "display_name": "Python 3 (ipykernel)",
   "language": "python",
   "name": "python3"
  },
  "language_info": {
   "codemirror_mode": {
    "name": "ipython",
    "version": 3
   },
   "file_extension": ".py",
   "mimetype": "text/x-python",
   "name": "python",
   "nbconvert_exporter": "python",
   "pygments_lexer": "ipython3",
   "version": "3.9.7"
  }
 },
 "nbformat": 4,
 "nbformat_minor": 5
}

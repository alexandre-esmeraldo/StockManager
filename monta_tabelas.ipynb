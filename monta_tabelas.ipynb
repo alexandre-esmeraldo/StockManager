{
 "cells": [
  {
   "cell_type": "code",
   "execution_count": null,
   "id": "ebc8c39a",
   "metadata": {},
   "outputs": [],
   "source": [
    "#  df_n_dias | vol | col_pc | pc_min | avg_vr_fech\n",
    "\n",
    "style, layout, max_count, parm_vol = {'description_width':'initial'}, {'width':'400px'}, 7, 1000000\n",
    "bar = IntProgress(min=0, max=max_count, style=style, layout=layout) # instantiate the bar\n",
    "display(bar) # display the bar\n",
    "\n",
    "d25 = monta_tabela(monta_df_periodos(df, 25), parm_vol, '1.0%', 24, 0.5, bar)\n",
    "d20 = monta_tabela(monta_df_periodos(df, 20), parm_vol, '1.0%', 19, 0.5, bar)\n",
    "d15 = monta_tabela(monta_df_periodos(df, 15), parm_vol, '1.0%', 14, 0.5, bar)\n",
    "d10 = monta_tabela(monta_df_periodos(df, 10), parm_vol, '1.0%', 9, 0.5, bar)\n",
    "d05 = monta_tabela(monta_df_periodos(df, 5), parm_vol, '1.0%', 5, 0.5, bar)\n",
    "d04 = monta_tabela(monta_df_periodos(df, 4), parm_vol, '1.0%', 4, 0.5, bar)\n",
    "d03 = monta_tabela(monta_df_periodos(df, 3), parm_vol, '1.0%', 3, 0.5, bar)\n",
    "merge1 = pd.merge(d25['Acao'], d20['Acao'], how ='inner', on =['Acao'])\n",
    "merge2 = pd.merge(merge1, d15['Acao'], how ='inner', on =['Acao'])\n",
    "merge3 = pd.merge(merge2, d10['Acao'], how ='inner', on =['Acao'])\n",
    "merge_final = pd.merge(merge3, d05['Acao'], how ='inner', on =['Acao'])\n",
    "if merge_final.empty:\n",
    "    merge_final = \"<< Sem ações boas em todo o período >>\""
   ]
  }
 ],
 "metadata": {
  "kernelspec": {
   "display_name": "Python 3 (ipykernel)",
   "language": "python",
   "name": "python3"
  },
  "language_info": {
   "codemirror_mode": {
    "name": "ipython",
    "version": 3
   },
   "file_extension": ".py",
   "mimetype": "text/x-python",
   "name": "python",
   "nbconvert_exporter": "python",
   "pygments_lexer": "ipython3",
   "version": "3.9.7"
  }
 },
 "nbformat": 4,
 "nbformat_minor": 5
}

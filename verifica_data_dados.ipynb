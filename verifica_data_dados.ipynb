{
 "cells": [
  {
   "cell_type": "code",
   "execution_count": null,
   "id": "78f07d32",
   "metadata": {},
   "outputs": [],
   "source": [
    "# Monday is 0 and Sunday is 6.\n",
    "dia_semana  = datetime.today().weekday()\n",
    "ajuste_dias = -3 if dia_semana == 0 else -1\n",
    "dt_esperado_ult = (datetime.today() + timedelta(days=ajuste_dias)).strftime('%Y-%m-%d')\n",
    "dt_max = str(df[\"dtPregao\"].max()).split()[0]\n",
    "\n",
    "if dt_esperado_ult == dt_max:\n",
    "    font_color=\"alert-success\"\n",
    "    a = \"Atualizado!\"\n",
    "else:\n",
    "    font_color=\"alert-danger\"\n",
    "    a = \"Desatualizado!!! Última data \" + str(dt_max)"
   ]
  }
 ],
 "metadata": {
  "kernelspec": {
   "display_name": "Python 3 (ipykernel)",
   "language": "python",
   "name": "python3"
  },
  "language_info": {
   "codemirror_mode": {
    "name": "ipython",
    "version": 3
   },
   "file_extension": ".py",
   "mimetype": "text/x-python",
   "name": "python",
   "nbconvert_exporter": "python",
   "pygments_lexer": "ipython3",
   "version": "3.9.7"
  }
 },
 "nbformat": 4,
 "nbformat_minor": 5
}

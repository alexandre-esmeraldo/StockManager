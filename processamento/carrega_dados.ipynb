{
 "cells": [
  {
   "cell_type": "code",
   "execution_count": null,
   "id": "2223285c",
   "metadata": {},
   "outputs": [],
   "source": [
    "df = carrega_dados(LISTA_ARQUIVOS)"
   ]
  },
  {
   "cell_type": "code",
   "execution_count": null,
   "id": "7c74eb13",
   "metadata": {},
   "outputs": [],
   "source": [
    "# Monday is 0 and Sunday is 6.\n",
    "dia_semana  = datetime.today().weekday()\n",
    "ajuste_dias = -3 if dia_semana == 0 else -1\n",
    "dt_esperado_ult = (datetime.today() + timedelta(days=ajuste_dias)).strftime('%Y-%m-%d')\n",
    "dt_max = str(df[\"dtPregao\"].max()).split()[0]\n",
    "\n",
    "if dt_esperado_ult == dt_max:\n",
    "    font_color=\"alert-success\"\n",
    "    a = \"Atualizado!\"\n",
    "else:\n",
    "    font_color=\"alert-danger\"\n",
    "    a = \"Desatualizado!!! Última data \" + str(dt_max)"
   ]
  },
  {
   "cell_type": "code",
   "execution_count": null,
   "id": "845f1cf8",
   "metadata": {},
   "outputs": [],
   "source": [
    "#  df_n_dias | vol | col_pc | pc_min | avg_vr_fech\n",
    "\n",
    "style, layout, max_count, parm_vol = {'description_width':'initial'}, {'width':'400px'}, 7, 1000000\n",
    "bar = IntProgress(min=0, max=max_count, style=style, layout=layout) # instantiate the bar\n",
    "display(bar) # display the bar\n",
    "\n",
    "d25 = monta_tabela(monta_df_periodos(df, 25), parm_vol, '1.0%', 24, 0.5, bar)\n",
    "d20 = monta_tabela(monta_df_periodos(df, 20), parm_vol, '1.0%', 19, 0.5, bar)\n",
    "d15 = monta_tabela(monta_df_periodos(df, 15), parm_vol, '1.0%', 14, 0.5, bar)\n",
    "d10 = monta_tabela(monta_df_periodos(df, 10), parm_vol, '1.0%', 9, 0.5, bar)\n",
    "d05 = monta_tabela(monta_df_periodos(df, 5), parm_vol, '1.0%', 5, 0.5, bar)\n",
    "d04 = monta_tabela(monta_df_periodos(df, 4), parm_vol, '1.0%', 4, 0.5, bar)\n",
    "d03 = monta_tabela(monta_df_periodos(df, 3), parm_vol, '1.0%', 3, 0.5, bar)\n",
    "merge1 = pd.merge(d25['Acao'], d20['Acao'], how ='inner', on =['Acao'])\n",
    "merge2 = pd.merge(merge1, d15['Acao'], how ='inner', on =['Acao'])\n",
    "merge3 = pd.merge(merge2, d10['Acao'], how ='inner', on =['Acao'])\n",
    "merge_final = pd.merge(merge3, d05['Acao'], how ='inner', on =['Acao'])\n",
    "if merge_final.empty:\n",
    "    merge_final = \"<< Sem ações boas em todo o período >>\""
   ]
  },
  {
   "cell_type": "code",
   "execution_count": null,
   "id": "131176c9",
   "metadata": {},
   "outputs": [],
   "source": [
    "# Setando definição de cores\n",
    "def color_red_dividend(val):\n",
    "    color = 'red' if val in ativos_dividendos_hoje else 'black'\n",
    "    return 'color: %s' % color"
   ]
  },
  {
   "cell_type": "code",
   "execution_count": null,
   "id": "2f1be09e",
   "metadata": {},
   "outputs": [],
   "source": [
    "d25_format = d25.style.applymap(color_red_dividend, subset=['Acao'])\n",
    "d20_format = d20.style.applymap(color_red_dividend, subset=['Acao'])\n",
    "d15_format = d15.style.applymap(color_red_dividend, subset=['Acao'])\n",
    "d10_format = d10.style.applymap(color_red_dividend, subset=['Acao'])\n",
    "d05_format = d05.style.applymap(color_red_dividend, subset=['Acao'])\n",
    "d04_format = d04.style.applymap(color_red_dividend, subset=['Acao'])\n",
    "d03_format = d03.style.applymap(color_red_dividend, subset=['Acao'])\n",
    "d25_format = d25_format.format({\"AvgVol\": \"{:,.2f}\".format,\"AvgVrFech\": \"{:,.2f}\".format,\"AvgPcAbert\": \"{:,.2f}\".format})\n",
    "d20_format = d20_format.format({\"AvgVol\": \"{:,.2f}\".format,\"AvgVrFech\": \"{:,.2f}\".format,\"AvgPcAbert\": \"{:,.2f}\".format})\n",
    "d15_format = d15_format.format({\"AvgVol\": \"{:,.2f}\".format,\"AvgVrFech\": \"{:,.2f}\".format,\"AvgPcAbert\": \"{:,.2f}\".format})\n",
    "d10_format = d10_format.format({\"AvgVol\": \"{:,.2f}\".format,\"AvgVrFech\": \"{:,.2f}\".format,\"AvgPcAbert\": \"{:,.2f}\".format})\n",
    "d05_format = d05_format.format({\"AvgVol\": \"{:,.2f}\".format,\"AvgVrFech\": \"{:,.2f}\".format,\"AvgPcAbert\": \"{:,.2f}\".format})\n",
    "d04_format = d04_format.format({\"AvgVol\": \"{:,.2f}\".format,\"AvgVrFech\": \"{:,.2f}\".format,\"AvgPcAbert\": \"{:,.2f}\".format})\n",
    "d03_format = d03_format.format({\"AvgVol\": \"{:,.2f}\".format,\"AvgVrFech\": \"{:,.2f}\".format,\"AvgPcAbert\": \"{:,.2f}\".format})"
   ]
  }
 ],
 "metadata": {
  "kernelspec": {
   "display_name": "Python 3 (ipykernel)",
   "language": "python",
   "name": "python3"
  },
  "language_info": {
   "codemirror_mode": {
    "name": "ipython",
    "version": 3
   },
   "file_extension": ".py",
   "mimetype": "text/x-python",
   "name": "python",
   "nbconvert_exporter": "python",
   "pygments_lexer": "ipython3",
   "version": "3.9.7"
  }
 },
 "nbformat": 4,
 "nbformat_minor": 5
}

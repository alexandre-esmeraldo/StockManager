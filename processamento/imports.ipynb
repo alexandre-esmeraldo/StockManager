{
 "cells": [
  {
   "cell_type": "code",
   "execution_count": null,
   "id": "6dc40e94",
   "metadata": {},
   "outputs": [],
   "source": [
    "from datetime import date, datetime, timedelta\n",
    "import pandas as pd\n",
    "from ipywidgets import IntProgress\n",
    "import ipywidgets as widgets\n",
    "import json\n",
    "from bs4 import BeautifulSoup\n",
    "from pacote.functions import *"
   ]
  },
  {
   "cell_type": "code",
   "execution_count": null,
   "id": "af62ab98",
   "metadata": {},
   "outputs": [],
   "source": [
    "hoje = datetime.today().strftime('%d/%m/%Y')\n",
    "\n",
    "print(time.asctime( time.localtime(time.time()) ))\n",
    "print(f\"Pandas version: {pd.__version__}\")"
   ]
  },
  {
   "cell_type": "code",
   "execution_count": null,
   "id": "25f98e00",
   "metadata": {},
   "outputs": [],
   "source": [
    "from IPython.display import FileLink, FileLinks, display, clear_output, Markdown"
   ]
  },
  {
   "cell_type": "code",
   "execution_count": null,
   "id": "74d2ae97",
   "metadata": {},
   "outputs": [],
   "source": [
    "# Setando opção do Pandas para mostrar todas as linhas\n",
    "pd.set_option('display.max_rows', None)\n",
    "pd.set_option('display.max_columns', None)\n",
    "\n",
    "# Setando separador de milhar\n",
    "pd.options.display.float_format = '{:,.2f}'.format"
   ]
  },
  {
   "cell_type": "code",
   "execution_count": null,
   "id": "81b63a75",
   "metadata": {},
   "outputs": [],
   "source": [
    "if time.localtime().tm_mon < 3 and ano == time.localtime().tm_year:\n",
    "    str_ano, str_nov_ant, str_dez_ant = f'A{ano}', f'M11{ano-1}', f'M12{ano-1}'\n",
    "    LISTA_ARQUIVOS = [str_ano, str_nov_ant, str_dez_ant]\n",
    "else:\n",
    "    str_ano = f'A{ano}'\n",
    "    LISTA_ARQUIVOS = [str_ano]"
   ]
  },
  {
   "cell_type": "code",
   "execution_count": null,
   "id": "d295d33f",
   "metadata": {},
   "outputs": [],
   "source": [
    "def printmd(string):\n",
    "    display(Markdown(string))"
   ]
  }
 ],
 "metadata": {
  "kernelspec": {
   "display_name": "Python 3 (ipykernel)",
   "language": "python",
   "name": "python3"
  },
  "language_info": {
   "codemirror_mode": {
    "name": "ipython",
    "version": 3
   },
   "file_extension": ".py",
   "mimetype": "text/x-python",
   "name": "python",
   "nbconvert_exporter": "python",
   "pygments_lexer": "ipython3",
   "version": "3.9.7"
  }
 },
 "nbformat": 4,
 "nbformat_minor": 5
}

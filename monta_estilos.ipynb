{
 "cells": [
  {
   "cell_type": "code",
   "execution_count": null,
   "id": "a848f38a",
   "metadata": {},
   "outputs": [],
   "source": [
    "# Setando definição de cores\n",
    "def color_red_dividend(val):\n",
    "    color = 'red' if val in ativos_dividendos_hoje else 'black'\n",
    "    return 'color: %s' % color"
   ]
  },
  {
   "cell_type": "code",
   "execution_count": null,
   "id": "d763f0c0",
   "metadata": {},
   "outputs": [],
   "source": [
    "d25_format = d25.style.applymap(color_red_dividend, subset=['Acao'])\n",
    "d20_format = d20.style.applymap(color_red_dividend, subset=['Acao'])\n",
    "d15_format = d15.style.applymap(color_red_dividend, subset=['Acao'])\n",
    "d10_format = d10.style.applymap(color_red_dividend, subset=['Acao'])\n",
    "d05_format = d05.style.applymap(color_red_dividend, subset=['Acao'])\n",
    "d04_format = d04.style.applymap(color_red_dividend, subset=['Acao'])\n",
    "d03_format = d03.style.applymap(color_red_dividend, subset=['Acao'])\n",
    "d25_format = d25_format.format({\"AvgVol\": \"{:,.2f}\".format,\"AvgVrFech\": \"{:,.2f}\".format,\"AvgPcAbert\": \"{:,.2f}\".format})\n",
    "d20_format = d20_format.format({\"AvgVol\": \"{:,.2f}\".format,\"AvgVrFech\": \"{:,.2f}\".format,\"AvgPcAbert\": \"{:,.2f}\".format})\n",
    "d15_format = d15_format.format({\"AvgVol\": \"{:,.2f}\".format,\"AvgVrFech\": \"{:,.2f}\".format,\"AvgPcAbert\": \"{:,.2f}\".format})\n",
    "d10_format = d10_format.format({\"AvgVol\": \"{:,.2f}\".format,\"AvgVrFech\": \"{:,.2f}\".format,\"AvgPcAbert\": \"{:,.2f}\".format})\n",
    "d05_format = d05_format.format({\"AvgVol\": \"{:,.2f}\".format,\"AvgVrFech\": \"{:,.2f}\".format,\"AvgPcAbert\": \"{:,.2f}\".format})\n",
    "d04_format = d04_format.format({\"AvgVol\": \"{:,.2f}\".format,\"AvgVrFech\": \"{:,.2f}\".format,\"AvgPcAbert\": \"{:,.2f}\".format})\n",
    "d03_format = d03_format.format({\"AvgVol\": \"{:,.2f}\".format,\"AvgVrFech\": \"{:,.2f}\".format,\"AvgPcAbert\": \"{:,.2f}\".format})"
   ]
  }
 ],
 "metadata": {
  "kernelspec": {
   "display_name": "Python 3 (ipykernel)",
   "language": "python",
   "name": "python3"
  },
  "language_info": {
   "codemirror_mode": {
    "name": "ipython",
    "version": 3
   },
   "file_extension": ".py",
   "mimetype": "text/x-python",
   "name": "python",
   "nbconvert_exporter": "python",
   "pygments_lexer": "ipython3",
   "version": "3.9.7"
  }
 },
 "nbformat": 4,
 "nbformat_minor": 5
}

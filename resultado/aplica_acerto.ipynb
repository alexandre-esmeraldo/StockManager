{
 "cells": [
  {
   "cell_type": "code",
   "execution_count": null,
   "metadata": {},
   "outputs": [],
   "source": [
    "start_date= datetime.strptime(f'{ano}-01-01', '%Y-%m-%d')\n",
    "end_date = datetime.strptime(f'{ano}-12-31', '%Y-%m-%d')\n",
    "\n",
    "df_acerto = pd.DataFrame(matrix_acerto, columns=dfFinal.columns)\n",
    "df_acerto['Data da Operação'] = pd.to_datetime(df_acerto['Data da Operação'], format='%d/%m/%Y')\n",
    "mask = (df_acerto['Data da Operação'] >= start_date) & (df_acerto['Data da Operação'] <= end_date)\n",
    "df_acerto = df_acerto.loc[mask]\n",
    "\n",
    "df = pd.concat([dfFinal, df_acerto], ignore_index=True)"
   ]
  },
  {
   "cell_type": "code",
   "execution_count": null,
   "metadata": {},
   "outputs": [],
   "source": [
    "dfFinal = df.sort_values(['Data da Operação', 'Tipo Operação'], ascending=[True, False])"
   ]
  },
  {
   "cell_type": "code",
   "execution_count": null,
   "metadata": {},
   "outputs": [],
   "source": [
    "# Ajustando caracter de decimal e milhar em \"Resultado (R$)\", e conversão para float\n",
    "dfFinal['Resultado (R$)'] = [x.replace('.','') for x in dfFinal['Resultado (R$)']]\n",
    "dfFinal['Resultado (R$)'] = [x.replace(',','.') for x in dfFinal['Resultado (R$)']]\n",
    "dfFinal['Resultado (R$)'] = dfFinal['Resultado (R$)'].astype(float)"
   ]
  },
  {
   "cell_type": "code",
   "execution_count": null,
   "metadata": {},
   "outputs": [],
   "source": [
    "# Removendo sinal de % para cálculos, e conversão para float\n",
    "dfFinal['%'] = [x.replace(' %','') for x in dfFinal['%']]\n",
    "dfFinal['%'] = [x.replace(',','.') for x in dfFinal['%']]\n",
    "dfFinal['%'] = dfFinal['%'].astype(float)"
   ]
  },
  {
   "cell_type": "code",
   "execution_count": null,
   "metadata": {},
   "outputs": [],
   "source": [
    "dfFinal = dfFinal.drop(['Característica', 'Corretora'], axis=1)"
   ]
  },
  {
   "cell_type": "code",
   "execution_count": null,
   "metadata": {},
   "outputs": [],
   "source": [
    "dfFinal['Qtde'] = dfFinal['Qtde'].astype(str)\n",
    "dfFinal['Qtde'] = [x.replace('.','') for x in dfFinal['Qtde']]\n",
    "dfFinal['Qtde'] = dfFinal['Qtde'].astype(int)"
   ]
  },
  {
   "cell_type": "code",
   "execution_count": null,
   "metadata": {},
   "outputs": [],
   "source": [
    "# Excluir linha de acerto da planilha caso o valor já esteja lançado.\n",
    "if dfFinal.iloc[-1]['Resultado (R$)'] == dfFinal.iloc[-2]['Resultado (R$)']:\n",
    "    dfFinal=dfFinal.drop(dfFinal.index[-1])"
   ]
  },
  {
   "cell_type": "code",
   "execution_count": null,
   "metadata": {},
   "outputs": [],
   "source": [
    "dfFinal['Preço (R$)'] = dfFinal['Preço (R$)'].astype(float)"
   ]
  },
  {
   "cell_type": "code",
   "execution_count": null,
   "metadata": {
    "scrolled": true
   },
   "outputs": [],
   "source": [
    "# Calcula vr_compra\n",
    "vr_compra_bruto = dfFinal['Qtde'] * dfFinal['Preço (R$)']"
   ]
  },
  {
   "cell_type": "code",
   "execution_count": null,
   "metadata": {},
   "outputs": [],
   "source": [
    "emolumentos = 325 / 1000000\n",
    "corretagem = 49 / 10\n",
    "vr_compra = vr_compra_bruto + corretagem + (vr_compra_bruto * emolumentos)"
   ]
  },
  {
   "cell_type": "code",
   "execution_count": null,
   "metadata": {},
   "outputs": [],
   "source": [
    "dfFinal['Valor Compra'] = vr_compra"
   ]
  },
  {
   "cell_type": "code",
   "execution_count": null,
   "metadata": {},
   "outputs": [],
   "source": [
    "# Cria Dataframe com apenas Porcentagem e Lucro/Perda (R$)\n",
    "df_sum = dfFinal[['%', 'Resultado (R$)']].copy()"
   ]
  },
  {
   "cell_type": "code",
   "execution_count": null,
   "metadata": {},
   "outputs": [],
   "source": [
    "df_sum = df_sum.rename(columns = {\"%\" : \"Porcentagem\"})"
   ]
  },
  {
   "cell_type": "code",
   "execution_count": null,
   "metadata": {},
   "outputs": [],
   "source": [
    "# Corrigir erro na GOLL4, dia 27/05/2025\n",
    "result = dfFinal[dfFinal[\"Resultado (R$)\"] == -24346.77]\n",
    "if not result.empty:\n",
    "    result_index = result.index[0]\n",
    "    dfFinal.at[result_index, \"Resultado (R$)\"] = 2769.48\n",
    "    dfFinal.at[result_index, \"%\"] = 4.10"
   ]
  },
  {
   "cell_type": "code",
   "execution_count": null,
   "metadata": {
    "scrolled": true
   },
   "outputs": [],
   "source": [
    "# Corrigir valores de GOLL54, que tem fator 1000\n",
    "dfFinal[\"Valor Compra\"] = np.where(dfFinal[\"Ativo\"] == \"GOLL54\", dfFinal[\"Valor Compra\"] / 1000, dfFinal[\"Valor Compra\"])"
   ]
  }
 ],
 "metadata": {
  "kernelspec": {
   "display_name": "Python 3 (ipykernel)",
   "language": "python",
   "name": "python3"
  },
  "language_info": {
   "codemirror_mode": {
    "name": "ipython",
    "version": 3
   },
   "file_extension": ".py",
   "mimetype": "text/x-python",
   "name": "python",
   "nbconvert_exporter": "python",
   "pygments_lexer": "ipython3",
   "version": "3.9.7"
  }
 },
 "nbformat": 4,
 "nbformat_minor": 4
}

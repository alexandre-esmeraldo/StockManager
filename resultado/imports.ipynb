{
 "cells": [
  {
   "cell_type": "code",
   "execution_count": null,
   "id": "5a2fd703",
   "metadata": {},
   "outputs": [],
   "source": [
    "from pandas import Series\n",
    "import pandas as pd\n",
    "from datetime import date, datetime\n",
    "from IPython.display import display, Markdown\n",
    "import matplotlib as mat\n",
    "import numpy as np\n",
    "import os\n",
    "import subprocess\n",
    "print(f\"Pandas version: {pd.__version__}\")"
   ]
  },
  {
   "cell_type": "code",
   "execution_count": null,
   "id": "48cef301",
   "metadata": {},
   "outputs": [],
   "source": [
    "import time\n",
    "print(time.asctime( time.localtime(time.time()) ))"
   ]
  },
  {
   "cell_type": "code",
   "execution_count": null,
   "id": "1bb092da",
   "metadata": {},
   "outputs": [],
   "source": [
    "import matplotlib.pyplot as plt\n",
    "%matplotlib notebook\n",
    "# Setando opção do Pandas para mostrar todas as linhas\n",
    "pd.set_option('display.max_rows', None)"
   ]
  },
  {
   "cell_type": "code",
   "execution_count": null,
   "id": "c0a66093",
   "metadata": {},
   "outputs": [],
   "source": [
    "# Setando definição de cores\n",
    "def color_negative_red(val):\n",
    "    color = 'red' if val < 0 else 'green'\n",
    "    return 'color: %s' % color"
   ]
  }
 ],
 "metadata": {
  "kernelspec": {
   "display_name": "Python 3 (ipykernel)",
   "language": "python",
   "name": "python3"
  },
  "language_info": {
   "codemirror_mode": {
    "name": "ipython",
    "version": 3
   },
   "file_extension": ".py",
   "mimetype": "text/x-python",
   "name": "python",
   "nbconvert_exporter": "python",
   "pygments_lexer": "ipython3",
   "version": "3.9.7"
  }
 },
 "nbformat": 4,
 "nbformat_minor": 5
}

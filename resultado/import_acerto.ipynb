{
 "cells": [
  {
   "cell_type": "code",
   "execution_count": null,
   "id": "e48be22d",
   "metadata": {},
   "outputs": [],
   "source": [
    "p = subprocess.call([\"powershell.exe\", \"copy 'Gerenciador de Ações.v6.xlsx' tempfile.xlsx\"])"
   ]
  },
  {
   "cell_type": "code",
   "execution_count": null,
   "id": "49c6926c",
   "metadata": {},
   "outputs": [],
   "source": [
    "# Leitura de planilha Excel\n",
    "ws = pd.read_excel('tempfile.xlsx', sheet_name=\"CÁLCULOS (3)\", header=None)\n",
    "# dt_acerto = ws[8][12]\n",
    "dt_acerto = ws[8][12][1:11]\n",
    "pc_liq_acerto = str(round(ws[5][13] * 100, 2)).replace('.', ',')\n",
    "vr_liq_acerto = str(round(ws[5][12], 2)).replace('.', ',')\n",
    "qt_acoes_acerto = int(float(str(ws[3][9])))\n",
    "vr_acao_acerto = str(ws[3][10])"
   ]
  },
  {
   "cell_type": "code",
   "execution_count": null,
   "id": "b9f90ffb",
   "metadata": {},
   "outputs": [],
   "source": [
    "os.remove('tempfile.xlsx')"
   ]
  },
  {
   "cell_type": "code",
   "execution_count": null,
   "id": "2d8bf9b9",
   "metadata": {},
   "outputs": [],
   "source": [
    "print(f\"Data da Operação:  {dt_acerto}\")\n",
    "print(f\"Quantidade:        {qt_acoes_acerto}\")\n",
    "print(f\"Valor da Operação: R$ {vr_acao_acerto}\".replace('.',','))\n",
    "print(f\"Porcentagem:       {pc_liq_acerto}%\")\n",
    "print(f\"Resultado:         R$ {vr_liq_acerto}\")"
   ]
  },
  {
   "cell_type": "code",
   "execution_count": null,
   "id": "814628eb",
   "metadata": {},
   "outputs": [],
   "source": [
    "# Setando variáveis\n",
    "\n",
    "valor_acerto = 0\n",
    "\n",
    "# Data da Operação, Tipo Operação, Característica, Ativo, Corretora, Qtde, Preço (R$), Custo Médio (R$), %, Resultado (R$)\n",
    "matrix_acerto = [['01/07/2020', 'acerto', 'acerto',   'acerto', 'acerto',  '0.00', '0.00', 0,  '-20,79', '0,00'      ],\n",
    "                 ['01/09/2020', 'acerto', 'acerto',   'acerto', 'acerto',  '0.00', '0.00', 0,  '2,66',   '0,00'      ],\n",
    "                 ['02/02/2021', 'acerto', 'acerto',   'acerto', 'acerto',  '0.00', '0.00', 0,  '-1,84',  '0,00'      ],\n",
    "                 ['17/06/2021', 'acerto', 'acerto',   'acerto', 'acerto',  '0.00', '0.00', 0,  '1,75',   '0,00'      ],\n",
    "                 ['25/09/2024', 'acerto', 'acerto',   'acerto', 'acerto',  '0.00', '0.00', 0,  '2,06',   '0,00'      ],\n",
    "                 ['18/10/2024', 'Dividendos', 'acerto', 'EVEN3', 'acerto', 8900 , '0.00', 0,  '0,00', '3560,00'],\n",
    "                 ['28/09/2023', 'PAGMTO FRACOES', 'acerto', 'BRPR3', 'acerto', 0 , '0.00', 0,  '0,00', '427,41'],\n",
    "                 ['14/09/2023', 'Restituição de Capital', 'acerto', 'BRPR3 ', 'acerto', 389 , '0.00', 0,  '0,00', '24527,73'],\n",
    "                 ['22/03/2023', 'PG.JUR.CAP.PROP', 'acerto', 'VALE3', 'acerto', 1100 , '0.00', 0,  '0,00', '273,03'],\n",
    "                 ['20/07/2022', 'Dividendos', 'acerto', 'PETR4', 'acerto', 3400 , '0.00', 0,  '0,00', '6316,33'],\n",
    "                 ['20/06/2022', 'Dividendos', 'acerto', 'PETR4', 'acerto', 3400 , '0.00', 0,  '0,00', '4853,73'],\n",
    "                 ['20/06/2022', 'PG.JUR.CAP.PROP', 'acerto', 'PETR4', 'acerto', 3400 , '0.00', 0,  '0,00', '1243,21'],\n",
    "                 ['05/04/2022', 'Dividendos', 'acerto', 'PTBL3', 'acerto', 16000, '0.00', 0,  '0,00', '395,94'],\n",
    "                 ['31/05/2021', 'Dividendos', 'acerto', 'USIM5', 'acerto', 6100 , '0.00', 0,  '0,00', '804,68'],\n",
    "                 ['30/04/2021', 'Dividendos', 'acerto', 'UNIP6', 'acerto', 1700 , '0.00', 0,  '0,00', '284,95'],\n",
    "                 ['30/04/2021', 'Dividendos', 'acerto', 'UNIP6', 'acerto', 1700 , '0.00', 0,  '0,00', '1791,96'],\n",
    "                 ['18/11/2020', 'Dividendos', 'acerto', 'GGBR4', 'acerto', 5700 , '0.00', 0,  '0,00', '684,00'],\n",
    "                 ['20/08/2020', 'PG.JUR.CAP.PROP', 'acerto', 'BIDI4', 'acerto', 7500 , '0.00', 0,  '0,00', '67,27'],\n",
    "                 ['01/07/2020', 'Dividendos', 'acerto', 'ITSA4', 'acerto', 1100 , '0.00', 0,  '0,00', '22,00'],\n",
    "                 ['14/06/2019', 'PG.JUR.CAP.PROP', 'acerto', 'BPAN4', 'acerto', 2000 , '0.00', 0,  '0,00', '129,11'],\n",
    "                 ['09/05/2018', 'Dividendos', 'acerto', 'SUZB3', 'acerto', 500 , '0.00', 0,  '0,00', '96,11'],\n",
    "                 ['09/11/2017', 'PAGMTO FRACOES', 'acerto', 'PPLA11', 'acerto', 0 , '0.00', 0,  '0,00', '0,38    '],\n",
    "                 ['02/09/2016', 'Dividendos', 'acerto', 'GGBR4', 'acerto', 2000 , '0.00', 0,  '0,00', '60,00'],\n",
    "                 [dt_acerto, 'Venda (planilha)', 'acerto', 'acerto', 'acerto', qt_acoes_acerto, vr_acao_acerto, 0, pc_liq_acerto, vr_liq_acerto]\n",
    "                ]"
   ]
  }
 ],
 "metadata": {
  "kernelspec": {
   "display_name": "Python 3 (ipykernel)",
   "language": "python",
   "name": "python3"
  },
  "language_info": {
   "codemirror_mode": {
    "name": "ipython",
    "version": 3
   },
   "file_extension": ".py",
   "mimetype": "text/x-python",
   "name": "python",
   "nbconvert_exporter": "python",
   "pygments_lexer": "ipython3",
   "version": "3.9.7"
  }
 },
 "nbformat": 4,
 "nbformat_minor": 5
}

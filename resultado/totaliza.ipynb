{
 "cells": [
  {
   "cell_type": "markdown",
   "metadata": {},
   "source": [
    "<p style=\"color:white; background-color: #366092; font-size: 15pt; padding: 5px 0px 5px 10px; font-weight: bold; text-align: left\">  Totaliza lucros e prejuízos  </p>"
   ]
  },
  {
   "cell_type": "code",
   "execution_count": null,
   "metadata": {},
   "outputs": [],
   "source": [
    "# Agrupa por mês totalizando o lucro/Prejuízo\n",
    "df_sum_lucro_perda = dfFinal.groupby(dfFinal['Data da Operação']\n",
    "                                     .dt.strftime('%B'))['Resultado (R$)'].sum()"
   ]
  },
  {
   "cell_type": "code",
   "execution_count": null,
   "metadata": {},
   "outputs": [],
   "source": [
    "# Totaliza lucros\n",
    "df_lucros = dfFinal.loc[dfFinal['Resultado (R$)'] > 0] \\\n",
    "                   .groupby(dfFinal['Data da Operação']\n",
    "                   .dt.strftime('%B'))['Resultado (R$)']\n",
    "df_sum_lucros = df_lucros.sum()\n",
    "df_qt_lucros  = df_lucros.count()\n",
    "\n",
    "# Totaliza Prejuízos\n",
    "df_perdas = dfFinal.loc[dfFinal['Resultado (R$)'] < 0] \\\n",
    "                   .groupby(dfFinal['Data da Operação']\n",
    "                   .dt.strftime('%B'))['Resultado (R$)']\n",
    "df_sum_perdas = df_perdas.sum()\n",
    "df_qt_perdas  = df_perdas.count()"
   ]
  },
  {
   "cell_type": "code",
   "execution_count": null,
   "metadata": {},
   "outputs": [],
   "source": [
    "# Agrupa por mês totalizando a Porcentagem\n",
    "df_sum_porcentagem = dfFinal.groupby(dfFinal['Data da Operação']\n",
    "                                     .dt.strftime('%B'))['%'].sum()"
   ]
  },
  {
   "cell_type": "code",
   "execution_count": null,
   "metadata": {},
   "outputs": [],
   "source": [
    "dfFinal_teste = dfFinal.groupby(['Data da Operação', 'Tipo Operação']).sum(['Resultado (R$)', 'Valor Compra'])\n",
    "dfFinal_teste.reset_index(drop=False, inplace=True)"
   ]
  },
  {
   "cell_type": "code",
   "execution_count": null,
   "metadata": {},
   "outputs": [],
   "source": [
    "# del dfFinal_teste['Preço (R$)']\n",
    "del dfFinal_teste['%']\n",
    "dfFinal_teste['%'] = (dfFinal_teste['Resultado (R$)'] * 100) / dfFinal_teste['Valor Compra']"
   ]
  },
  {
   "cell_type": "code",
   "execution_count": null,
   "metadata": {},
   "outputs": [],
   "source": [
    "dfFinal_teste['Data da Operação'] = pd.to_datetime(dfFinal_teste['Data da Operação'], format='%d/%m/%Y')\n",
    "df_sum_porcentagem_teste = dfFinal_teste.groupby(dfFinal_teste['Data da Operação']\n",
    "                                        .dt.strftime('%B'))['%'].sum()"
   ]
  },
  {
   "cell_type": "code",
   "execution_count": null,
   "metadata": {},
   "outputs": [],
   "source": [
    "array_meses = [4,8,12,2,1,7,6,3,5,11,10,9]\n",
    "meses = []\n",
    "if date.today().year == ano:\n",
    "    for x in array_meses:\n",
    "        if x <= date.today().month:\n",
    "            meses.append(x)\n",
    "else:\n",
    "    meses = array_meses"
   ]
  },
  {
   "cell_type": "code",
   "execution_count": null,
   "metadata": {},
   "outputs": [],
   "source": [
    "# corrige lista de meses se mês atual não tiver operações\n",
    "if len(meses) > len(df_sum_lucro_perda):\n",
    "    meses.remove(max(meses))"
   ]
  },
  {
   "cell_type": "code",
   "execution_count": null,
   "metadata": {},
   "outputs": [],
   "source": [
    "# Cria DataFrame\n",
    "df_tot_mes = pd.DataFrame({'mes':meses\n",
    "                         ,'Mês':df_sum_lucro_perda.index.values\n",
    "                         ,'Resultado (R$)':df_sum_lucro_perda\n",
    "                         ,'Porcentagem':df_sum_porcentagem\n",
    "                         ,'Total Lucros':df_sum_lucros\n",
    "                         ,'Total Perdas':df_sum_perdas\n",
    "                         ,'Qt Lucros':df_qt_lucros\n",
    "                         ,'Qt Perdas':df_qt_perdas\n",
    "                          }).set_index('mes')"
   ]
  },
  {
   "cell_type": "code",
   "execution_count": null,
   "metadata": {},
   "outputs": [],
   "source": [
    "df_tot_mes['Total Lucros'] = df_tot_mes['Total Lucros'].fillna(0.00)\n",
    "df_tot_mes['Total Perdas'] = df_tot_mes['Total Perdas'].fillna(0.00)\n",
    "df_tot_mes['Qt Lucros'] = df_tot_mes['Qt Lucros'].fillna(0).astype(int)\n",
    "df_tot_mes['Qt Perdas'] = df_tot_mes['Qt Perdas'].fillna(0).astype(int)"
   ]
  },
  {
   "cell_type": "code",
   "execution_count": null,
   "metadata": {},
   "outputs": [],
   "source": [
    "df_tot_mes.sort_index(inplace=True)"
   ]
  },
  {
   "cell_type": "code",
   "execution_count": null,
   "metadata": {},
   "outputs": [],
   "source": [
    "# Setando separador de milhar\n",
    "pd.options.display.float_format = '{:,.2f}'.format"
   ]
  },
  {
   "cell_type": "code",
   "execution_count": null,
   "metadata": {
    "scrolled": true
   },
   "outputs": [],
   "source": [
    "# Calculando total do ano\n",
    "resultado = round(df_sum['Resultado (R$)'].sum(), 2)\n",
    "porcentagem = round(df_sum['Porcentagem'].sum(), 2)\n",
    "total_lucros = round(df_tot_mes['Total Lucros'].sum(), 2)\n",
    "total_perdas = round(df_tot_mes['Total Perdas'].sum(), 2)\n",
    "qt_lucros = round(df_tot_mes['Qt Lucros'].sum(), 2)\n",
    "qt_perdas = round(df_tot_mes['Qt Perdas'].sum(), 2)\n",
    "resultado_txt = 'Lucro: ' if resultado >= 0 else 'Prejuízo...: '\n",
    "porcentagem_txt = '> Porcentagem: '\n",
    "# Markdown(f'{porcentagem_txt}**{porcentagem}%**<br>{resultado_txt}**R${resultado}**')"
   ]
  },
  {
   "cell_type": "code",
   "execution_count": null,
   "metadata": {},
   "outputs": [],
   "source": [
    "# Adicionando Total do Ano\n",
    "df_tot_mes.loc[len(df_tot_mes) + 1] = ['== Ano ==', resultado, porcentagem, total_lucros, total_perdas, qt_lucros, qt_perdas]\n",
    "df_tot_mes.rename(index={len(df_tot_mes) : 'Total'}, inplace=True)"
   ]
  },
  {
   "cell_type": "code",
   "execution_count": null,
   "metadata": {},
   "outputs": [],
   "source": [
    "# Calcula mediana to valor total usado para compras\n",
    "teste = dfFinal.loc[dfFinal[\"Tipo Operação\"] == \"Compra\"].drop(columns=[\"Ativo\"])\n",
    "teste['AnoMes'] = teste['Data da Operação'].dt.to_period('M')\n",
    "resultado = teste.groupby('AnoMes')['Valor Compra'].agg(['mean', 'median']).reset_index()\n",
    "resultado.loc[len(resultado) + 1] = [resultado[\"AnoMes\"][0], 0, resultado[\"median\"].median()]\n",
    "resultado = resultado.reset_index(drop=True)\n",
    "resultado.index += 1\n",
    "resultado.rename(index={len(resultado) : 'Total'}, inplace=True)\n",
    "df_tot_mes[\"Mediana Compras\"] = resultado[\"median\"]\n",
    "df_tot_mes[\"Porcentagem Relatório\"] = df_tot_mes[\"Porcentagem\"]\n",
    "df_tot_mes[\"Porcentagem\"] = df_tot_mes[\"Resultado (R$)\"] / df_tot_mes[\"Mediana Compras\"]"
   ]
  },
  {
   "cell_type": "code",
   "execution_count": null,
   "metadata": {},
   "outputs": [],
   "source": [
    "# teste\n",
    "# df_tot_mes = df_tot_mes.style.set_table_styles([dict(selector=\"th\",props=[('max-width', '90px'), ('text-align', 'center')])])"
   ]
  },
  {
   "cell_type": "code",
   "execution_count": null,
   "metadata": {
    "scrolled": true
   },
   "outputs": [],
   "source": [
    "df_tot_mes_format = df_tot_mes.copy()\n",
    "df_tot_mes_format[\"Porcentagem Relatório\"] = df_tot_mes_format[\"Porcentagem Relatório\"] * 0.01\n",
    "df_tot_mes_format = df_tot_mes_format.style.applymap(color_negative_red, subset=['Resultado (R$)'\n",
    "                                                                                 ,'Porcentagem'\n",
    "                                                                                 ,'Total Lucros'\n",
    "                                                                                 ,'Total Perdas'\n",
    "                                                                                 ,'Mediana Compras'\n",
    "                                                                                 ,'Porcentagem Relatório'\n",
    "                                                                                ]) \\\n",
    "                                           .set_table_styles([dict(selector=\"th\",props=[('max-width', '90px')\n",
    "                                                                                      , ('text-align', 'center')])\n",
    "                                                             ])\n",
    "df_tot_mes_format = df_tot_mes_format.format(\n",
    "    {\n",
    "    \"Resultado (R$)\": \"{:,.2f}\".format,\n",
    "    \"Porcentagem\": \"{:,.2%}\".format,\n",
    "    \"Total Lucros\": \"{:,.2f}\".format,\n",
    "    \"Total Perdas\": \"{:,.2f}\".format,\n",
    "    \"Mediana Compras\": \"{:,.2f}\".format,\n",
    "    \"Porcentagem Relatório\": \"{:,.2%}\".format\n",
    "})\n",
    "\n",
    "dfFinal['Qtde'] = dfFinal.loc[:, 'Qtde'].astype(int).map('{:,}'.format)\n",
    "dfFinal[\"%\"] = dfFinal[\"%\"].apply(lambda x: x * 0.01)\n",
    "dfFinal[\"%\"] = dfFinal[\"%\"].map('{:.2%}'.format)"
   ]
  }
 ],
 "metadata": {
  "kernelspec": {
   "display_name": "Python 3 (ipykernel)",
   "language": "python",
   "name": "python3"
  },
  "language_info": {
   "codemirror_mode": {
    "name": "ipython",
    "version": 3
   },
   "file_extension": ".py",
   "mimetype": "text/x-python",
   "name": "python",
   "nbconvert_exporter": "python",
   "pygments_lexer": "ipython3",
   "version": "3.9.7"
  }
 },
 "nbformat": 4,
 "nbformat_minor": 4
}

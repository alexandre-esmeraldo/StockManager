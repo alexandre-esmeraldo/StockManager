{
 "cells": [
  {
   "cell_type": "code",
   "execution_count": null,
   "id": "f5a4865e",
   "metadata": {},
   "outputs": [],
   "source": [
    "arquivo_csv = 'arquivos/relatorioOperacoes' + str(ano) + '.csv'\n",
    "\n",
    "# Usando o método read_csv\n",
    "df = pd.read_csv(arquivo_csv, delimiter=\";\", encoding='ansi', decimal=\",\")\n",
    "\n",
    "del df[\"Data da Operação\"]\n",
    "df = df.rename(columns = {\"Unnamed: 0\" : \"Data da Operação\",\n",
    "                          \"Lucro/Perda (R$)\" : \"Resultado (R$)\"})\n",
    "\n",
    "#Substitui NaN por \"-\"\n",
    "df = df.fillna(\"-\")\n",
    "\n",
    "dfTemp = df[\"Resultado (R$)\"]\n",
    "dfFinal = df\n",
    "del dfFinal[\"Resultado (R$)\"]\n",
    "\n",
    "# Copia índices para exclusão do dfTemp\n",
    "index = df[df['Ativo'] != '-'].index\n",
    "\n",
    "# Exclui linhas nulas do dfTemp\n",
    "dfTemp.drop(index, inplace=True)\n",
    "\n",
    "# Reorganiza índice dfTemp\n",
    "dfTemp.index = pd.Categorical(dfTemp.index).codes"
   ]
  },
  {
   "cell_type": "code",
   "execution_count": null,
   "id": "b7438498",
   "metadata": {},
   "outputs": [],
   "source": [
    "# Copia índices para exclusão do dfFinal\n",
    "index = df[df['Ativo'] == '-'].index\n",
    "\n",
    "# Exclui linhas nulas do dfFinal\n",
    "dfFinal.drop(index, inplace=True)\n",
    "\n",
    "# Reorganiza índice dfFinal\n",
    "dfFinal.index = pd.Categorical(dfFinal.index).codes\n",
    "\n",
    "dfFinal[dfTemp.name] = dfTemp\n",
    "\n",
    "# Conversão da coluna Data de Operação para tipo Data\n",
    "dfFinal['Data da Operação'] = pd.to_datetime(dfFinal['Data da Operação'], format='%d/%m/%Y')"
   ]
  }
 ],
 "metadata": {
  "kernelspec": {
   "display_name": "Python 3 (ipykernel)",
   "language": "python",
   "name": "python3"
  },
  "language_info": {
   "codemirror_mode": {
    "name": "ipython",
    "version": 3
   },
   "file_extension": ".py",
   "mimetype": "text/x-python",
   "name": "python",
   "nbconvert_exporter": "python",
   "pygments_lexer": "ipython3",
   "version": "3.9.7"
  }
 },
 "nbformat": 4,
 "nbformat_minor": 5
}

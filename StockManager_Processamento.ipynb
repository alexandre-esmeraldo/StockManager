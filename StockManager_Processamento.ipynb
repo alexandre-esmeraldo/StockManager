{
 "cells": [
  {
   "cell_type": "markdown",
   "metadata": {},
   "source": [
    "# ++ Carregar dados históricos da Bovespa em Dataframe para análise ++"
   ]
  },
  {
   "cell_type": "code",
   "execution_count": null,
   "metadata": {},
   "outputs": [],
   "source": [
    "import time\n",
    "ano = time.localtime().tm_year\n",
    "%run imports.ipynb"
   ]
  },
  {
   "cell_type": "code",
   "execution_count": null,
   "metadata": {},
   "outputs": [],
   "source": [
    "result = FileLink('Resultados.ipynb')\n",
    "verifica_data_dados = FileLink('verifica_data_dados.ipynb')\n",
    "monta_tabelas = FileLink('monta_tabelas.ipynb')\n",
    "definicao_botoes = FileLink('definicao_botoes.ipynb')\n",
    "monta_estilos = FileLink('monta_estilos.ipynb')\n",
    "\n",
    "display(result, verifica_data_dados, monta_tabelas, definicao_botoes, monta_estilos)"
   ]
  },
  {
   "cell_type": "code",
   "execution_count": null,
   "metadata": {
    "scrolled": true
   },
   "outputs": [],
   "source": [
    "try:\n",
    "    ativos_dividendos_hoje = busca_ativos_dividendos_resultados()\n",
    "except Exception as e:\n",
    "    ativos_dividendos_hoje = set()\n",
    "    printmd(f'<p style=\"color:white; background-color: red; font-size: 20pt; padding: 10px 0px 10px 156px; font-weight: bold\">  {e} </p>')"
   ]
  },
  {
   "cell_type": "code",
   "execution_count": null,
   "metadata": {},
   "outputs": [],
   "source": [
    "df = carrega_dados(LISTA_ARQUIVOS)"
   ]
  },
  {
   "cell_type": "code",
   "execution_count": null,
   "metadata": {},
   "outputs": [],
   "source": [
    "%run verifica_data_dados.ipynb"
   ]
  },
  {
   "cell_type": "code",
   "execution_count": null,
   "metadata": {
    "scrolled": true
   },
   "outputs": [],
   "source": [
    "%run monta_tabelas.ipynb"
   ]
  },
  {
   "cell_type": "code",
   "execution_count": null,
   "metadata": {},
   "outputs": [],
   "source": [
    "%run definicao_botoes.ipynb"
   ]
  },
  {
   "cell_type": "code",
   "execution_count": null,
   "metadata": {},
   "outputs": [],
   "source": [
    "%run monta_estilos.ipynb"
   ]
  },
  {
   "cell_type": "code",
   "execution_count": null,
   "metadata": {
    "scrolled": true
   },
   "outputs": [],
   "source": [
    "printmd(f'**<div class={font_color}>{hoje}, Arquivo {a}</div>**')"
   ]
  },
  {
   "cell_type": "markdown",
   "metadata": {},
   "source": [
    "<p style=\"color:white; background-color: #366092; font-size: 12pt; padding: 3px 0px 3px 6px; font-weight: bold\">  Dividendos Hoje </p>"
   ]
  },
  {
   "cell_type": "code",
   "execution_count": null,
   "metadata": {},
   "outputs": [],
   "source": [
    "ativos_dividendos_hoje"
   ]
  },
  {
   "cell_type": "markdown",
   "metadata": {},
   "source": [
    "<p style=\"color:white; background-color: #366092; font-size: 12pt; padding: 3px 0px 3px 6px; font-weight: bold\">  25 dias, order by 1% </p>"
   ]
  },
  {
   "cell_type": "code",
   "execution_count": null,
   "metadata": {
    "scrolled": true
   },
   "outputs": [],
   "source": [
    "d25_format if not d25.empty else print('<< Sem ações boas para 25 dias >>')"
   ]
  },
  {
   "cell_type": "markdown",
   "metadata": {},
   "source": [
    "<p style=\"color:white; background-color: #366092; font-size: 12pt; padding: 3px 0px 3px 6px; font-weight: bold\">  20 dias, order by 1% </p>"
   ]
  },
  {
   "cell_type": "code",
   "execution_count": null,
   "metadata": {
    "scrolled": true
   },
   "outputs": [],
   "source": [
    "d20_format if not d20.empty else print('<< Sem ações boas para 20 dias >>')"
   ]
  },
  {
   "cell_type": "markdown",
   "metadata": {},
   "source": [
    "<p style=\"color:white; background-color: #366092; font-size: 12pt; padding: 3px 0px 3px 6px; font-weight: bold\">  15 dias, order by 1% </p>"
   ]
  },
  {
   "cell_type": "code",
   "execution_count": null,
   "metadata": {
    "scrolled": true
   },
   "outputs": [],
   "source": [
    "d15_format if not d15.empty else print('<< Sem ações boas para 10 dias >>')"
   ]
  },
  {
   "cell_type": "markdown",
   "metadata": {},
   "source": [
    "<p style=\"color:white; background-color: #366092; font-size: 12pt; padding: 3px 0px 3px 6px; font-weight: bold\">  10 dias, order by 1% </p>"
   ]
  },
  {
   "cell_type": "code",
   "execution_count": null,
   "metadata": {
    "scrolled": true
   },
   "outputs": [],
   "source": [
    "d10_format if not d10.empty else print('<< Sem ações boas para 10 dias >>')"
   ]
  },
  {
   "cell_type": "markdown",
   "metadata": {},
   "source": [
    "<p style=\"color:white; background-color: #366092; font-size: 12pt; padding: 3px 0px 3px 6px; font-weight: bold\">  5 dias, order by 1% </p>"
   ]
  },
  {
   "cell_type": "code",
   "execution_count": null,
   "metadata": {
    "scrolled": true
   },
   "outputs": [],
   "source": [
    "d05_format"
   ]
  },
  {
   "cell_type": "code",
   "execution_count": null,
   "metadata": {
    "scrolled": true
   },
   "outputs": [],
   "source": [
    "d04_format"
   ]
  },
  {
   "cell_type": "code",
   "execution_count": null,
   "metadata": {
    "scrolled": true
   },
   "outputs": [],
   "source": [
    "d03_format"
   ]
  },
  {
   "cell_type": "code",
   "execution_count": null,
   "metadata": {
    "scrolled": true
   },
   "outputs": [],
   "source": [
    "printmd(f'**<div class={font_color}>{hoje}, Status {a}</div>**')"
   ]
  },
  {
   "cell_type": "markdown",
   "metadata": {},
   "source": [
    "<p style=\"color:white; background-color: #366092; font-size: 12pt; padding: 3px 0px 3px 6px; font-weight: bold\">  Consulta ação específica </p>"
   ]
  },
  {
   "cell_type": "code",
   "execution_count": null,
   "metadata": {
    "scrolled": true
   },
   "outputs": [],
   "source": [
    "acao_adhoc = \"AMER3\"\n",
    "\n",
    "consulta_acao_formatada(df, acao_adhoc)"
   ]
  },
  {
   "cell_type": "code",
   "execution_count": null,
   "metadata": {
    "scrolled": false
   },
   "outputs": [],
   "source": [
    "%run graficos_acao.ipynb\n",
    "# FileLink('graficos_acao.ipynb')"
   ]
  },
  {
   "cell_type": "code",
   "execution_count": null,
   "metadata": {
    "scrolled": true
   },
   "outputs": [],
   "source": [
    "printmd(f'**<div style=\"color:white; background-color: green; font-size: 15pt; padding: 5px 0px 5px 10px; font-weight: bold\">Botões para melhores ações de {acao_botoes}</div>**')"
   ]
  },
  {
   "cell_type": "code",
   "execution_count": null,
   "metadata": {
    "scrolled": true
   },
   "outputs": [],
   "source": [
    "buttons = widgets.HBox(lista_buttons)\n",
    "widgets.VBox([buttons, output])"
   ]
  },
  {
   "cell_type": "markdown",
   "metadata": {},
   "source": [
    "<p style=\"color:white; background-color: #F4750C; font-size: 15pt; padding: 5px 0px 5px 10px; font-weight: bold\">  Ações presentes em todos os períodos </p>"
   ]
  },
  {
   "cell_type": "code",
   "execution_count": null,
   "metadata": {
    "scrolled": true
   },
   "outputs": [],
   "source": [
    "merge_final"
   ]
  },
  {
   "cell_type": "markdown",
   "metadata": {},
   "source": [
    "<p style=\"color:white; background-color: #F4750C; font-size: 15pt; padding: 5px 0px 5px 10px; font-weight: bold\">  Grandes Variações de Volume </p>"
   ]
  },
  {
   "cell_type": "code",
   "execution_count": null,
   "metadata": {
    "scrolled": false
   },
   "outputs": [],
   "source": [
    "grandes_variacoes_volume(df)"
   ]
  },
  {
   "cell_type": "markdown",
   "metadata": {},
   "source": [
    "<p style=\"color:white; background-color: #F4750C; font-size: 15pt; padding: 5px 0px 5px 10px; font-weight: bold\">   </p>"
   ]
  },
  {
   "cell_type": "code",
   "execution_count": null,
   "metadata": {
    "scrolled": false
   },
   "outputs": [],
   "source": [
    "%run graficos_periodos.ipynb\n",
    "# FileLink(\"graficos_periodos.ipynb\")"
   ]
  },
  {
   "cell_type": "code",
   "execution_count": null,
   "metadata": {
    "scrolled": true
   },
   "outputs": [],
   "source": [
    "bla"
   ]
  },
  {
   "cell_type": "code",
   "execution_count": null,
   "metadata": {},
   "outputs": [],
   "source": [
    "df.loc[(df[\"pcVar\"] > 40) & (df[\"pcVar\"] != df[\"pcMin\"]) & (df[\"pcVar\"] < 60) & (df[\"dtPregao\"] != \"2025-01-02\")]"
   ]
  },
  {
   "cell_type": "code",
   "execution_count": null,
   "metadata": {},
   "outputs": [],
   "source": [
    "# https://stackoverflow.com/questions/39450065/python-3-read-write-compressed-json-objects-from-to-gzip-file\n",
    "import gzip\n",
    "import json\n",
    "\n",
    "def write_json_gzip(data, jsonfilename):                         # 1. data\n",
    "    json_str = data.to_json(date_format='iso', orient='records') # 2. string (i.e. JSON)\n",
    "    json_bytes = json_str.encode('utf-8')                        # 3. bytes (i.e. UTF-8)\n",
    "\n",
    "    with gzip.open(jsonfilename, 'w') as fout:                   # 4. fewer bytes (i.e. gzip)\n",
    "        fout.write(json_bytes)\n",
    "        \n",
    "def read_json_gzip(jsonfilename):\n",
    "    with gzip.open(jsonfilename, 'r') as fin:        # 4. gzip\n",
    "        json_bytes = fin.read()                      # 3. bytes (i.e. UTF-8)\n",
    "\n",
    "    json_str = json_bytes.decode('utf-8')            # 2. string (i.e. JSON)\n",
    "    df_json = pd.read_json(json_str)\n",
    "    \n",
    "    df_json['dtPregao'] = pd.to_datetime(df_json['dtPregao']).dt.strftime('%Y-%m-%d')\n",
    "\n",
    "    return df_json"
   ]
  },
  {
   "cell_type": "code",
   "execution_count": null,
   "metadata": {},
   "outputs": [],
   "source": [
    "jsonfilename = 'teste.json.gz'\n",
    "# write_json_gzip(consulta_acao(df, acao_adhoc), jsonfilename)\n",
    "write_json_gzip(df, jsonfilename)"
   ]
  },
  {
   "cell_type": "code",
   "execution_count": null,
   "metadata": {
    "scrolled": true
   },
   "outputs": [],
   "source": [
    "# read_json_gzip(jsonfilename)"
   ]
  },
  {
   "cell_type": "code",
   "execution_count": null,
   "metadata": {},
   "outputs": [],
   "source": [
    "%run Resultados.ipynb"
   ]
  },
  {
   "cell_type": "code",
   "execution_count": null,
   "metadata": {},
   "outputs": [],
   "source": [
    "dfFinal"
   ]
  },
  {
   "cell_type": "code",
   "execution_count": null,
   "metadata": {},
   "outputs": [],
   "source": [
    "df_tot_mes_format"
   ]
  }
 ],
 "metadata": {
  "kernelspec": {
   "display_name": "Python 3 (ipykernel)",
   "language": "python",
   "name": "python3"
  },
  "language_info": {
   "codemirror_mode": {
    "name": "ipython",
    "version": 3
   },
   "file_extension": ".py",
   "mimetype": "text/x-python",
   "name": "python",
   "nbconvert_exporter": "python",
   "pygments_lexer": "ipython3",
   "version": "3.9.7"
  }
 },
 "nbformat": 4,
 "nbformat_minor": 4
}
